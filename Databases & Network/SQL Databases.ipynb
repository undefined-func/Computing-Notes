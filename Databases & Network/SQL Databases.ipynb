{
 "cells": [
  {
   "cell_type": "markdown",
   "metadata": {},
   "source": [
    "# General Example of sqlite3 library"
   ]
  },
  {
   "cell_type": "code",
   "execution_count": null,
   "metadata": {},
   "outputs": [],
   "source": [
    "import sqlite3\n",
    "\n",
    "conn = sqlite3.connect(\"database.db\")\n",
    "conn.execute(\"CREATE TABLE Book (ID INTEGER PRIMARY KEY, Title TEXT)\")\n",
    "conn.commit()\n",
    "\n",
    "bookid = int(input(\"Enter book id:\"))\n",
    "title = input(\"Enter book title: \")\n",
    "conn.execute(\"INSERT INTO Book(ID, Title) VALUES(?, ?)\", (bookid, title))\n",
    "\n",
    "conn.rollback() #Return to last committed state\n",
    "\n",
    "cursor = conn.execute(\"SELECT ID, title FROM Book WHERE title = 'MF26'\")\n",
    "for row in cursor:\n",
    "    print(row[0]) #Referencing by index\n",
    "    \n",
    "conn.row_factory = sqlite3.Row\n",
    "cursor = conn.execute(\"SELECT ID, title FROM Book WHERE title = 'MF26'\")\n",
    "for row in cursor:\n",
    "    print(row[\"ID\"]) #Referencing by field name\n",
    "    \n",
    "    \n",
    "firstrow = cursor.fetchone()#First record stored in a tuple or dictionary\n",
    "\n",
    "rows = cursor.fetchall()#Iterable of all records stored in a tuple\n",
    "for row in rows:\n",
    "    #do stuff"
   ]
  },
  {
   "cell_type": "code",
   "execution_count": null,
   "metadata": {},
   "outputs": [],
   "source": [
    "#Always have a extra cell to ensure that the db is not locked after error\n",
    "conn.close()"
   ]
  }
 ],
 "metadata": {
  "kernelspec": {
   "display_name": "Python 3",
   "language": "python",
   "name": "python3"
  },
  "language_info": {
   "codemirror_mode": {
    "name": "ipython",
    "version": 3
   },
   "file_extension": ".py",
   "mimetype": "text/x-python",
   "name": "python",
   "nbconvert_exporter": "python",
   "pygments_lexer": "ipython3",
   "version": "3.6.4"
  }
 },
 "nbformat": 4,
 "nbformat_minor": 2
}
