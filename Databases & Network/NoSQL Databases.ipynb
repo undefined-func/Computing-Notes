{
 "cells": [
  {
   "cell_type": "markdown",
   "metadata": {},
   "source": [
    "# General Example"
   ]
  },
  {
   "cell_type": "code",
   "execution_count": 3,
   "metadata": {},
   "outputs": [],
   "source": [
    "import pymongo\n",
    "client = pymongo.MongoClient('localhost', 27017)\n",
    "db = client.get_database(\"entertainment\")\n",
    "coll = db.get_collection(\"movies\")\n",
    "\n",
    "result = coll.find({}) #get all documents\n",
    "\n",
    "client.close()"
   ]
  },
  {
   "cell_type": "markdown",
   "metadata": {},
   "source": [
    "## Bracket Notation"
   ]
  },
  {
   "cell_type": "code",
   "execution_count": null,
   "metadata": {},
   "outputs": [],
   "source": [
    "{'genre':{'$nim':['adventure', 'comedy']}}\n",
    "- Genre is not adventure or comedy\n",
    "\n",
    "{'year':{'$exists': True}}\n",
    "- Document has field 'year'\n",
    "\n",
    "{'$unset':{'year': 0}}\n",
    "- Delete 'year' field\n",
    "\n",
    "{'price': {'$ne': 1.99, '$exists': True }}\n",
    "- Document has 'price' field and 'price' not equal 1.99"
   ]
  }
 ],
 "metadata": {
  "kernelspec": {
   "display_name": "Python 3",
   "language": "python",
   "name": "python3"
  },
  "language_info": {
   "codemirror_mode": {
    "name": "ipython",
    "version": 3
   },
   "file_extension": ".py",
   "mimetype": "text/x-python",
   "name": "python",
   "nbconvert_exporter": "python",
   "pygments_lexer": "ipython3",
   "version": "3.6.4"
  }
 },
 "nbformat": 4,
 "nbformat_minor": 2
}
