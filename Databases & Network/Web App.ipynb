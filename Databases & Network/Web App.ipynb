{
 "cells": [
  {
   "cell_type": "markdown",
   "metadata": {},
   "source": [
    "# HTML boilerplate\n",
    "    <!DOCTYPE html>\n",
    "    <html>\n",
    "        <head>\n",
    "            <title>My Web App</title>\n",
    "            <link rel='stylesheet' href=\"{{ url_for('static', 'styles.css') }}\">\n",
    "        </head>\n",
    "        <body>\n",
    "            <!-- My content -->\n",
    "        </body>\n",
    "    </html>\n",
    "        "
   ]
  },
  {
   "attachments": {
    "CSS%20Box%20Model.png": {
     "image/png": "[encoded data removed]"
    }
   },
   "cell_type": "markdown",
   "metadata": {},
   "source": [
    "# CSS\n",
    "## CSS Box Model\n",
    "![CSS%20Box%20Model.png](attachment:CSS%20Box%20Model.png)\n",
    "\n",
    "## CSS Formatting\n",
    "    <a id='link' href='link.html'>\n",
    "    #link { font-family: sans-serif; } \n",
    "<b>\\# for id<br>\n",
    "Note: id is unique to one element only</b>\n",
    "\n",
    "    <a class='simple' href='link2.html'>\n",
    "    <a class='simple' href='link3.html'>\n",
    "    .simple { font-size: 16px; }\n",
    "<b>. for class</b>\n",
    "\n",
    "    <p>This is <i>italics and 16 px</i></p>\n",
    "    p i { font-size: 16 px; }\n",
    "<b>Must meet both p and i (in that particular nested order) to apply style</b>\n",
    "\n",
    "    h1, h2, h3 { color: red; }\n",
    "<b>Apply to h1, h2 and h3</b>"
   ]
  },
  {
   "cell_type": "markdown",
   "metadata": {},
   "source": [
    "# Flask\n",
    "## Boilerplate"
   ]
  },
  {
   "cell_type": "code",
   "execution_count": null,
   "metadata": {},
   "outputs": [],
   "source": [
    "import flask\n",
    "from flask import render_template\n",
    "\n",
    "app = flask.Flask(__name__)\n",
    "\n",
    "@app.route('/<name>', methods=['GET', 'POST'])\n",
    "def index(name):\n",
    "    #                                 Jinja2 Python\n",
    "    #                                     v     v \n",
    "    return render_template('index.html', name=name)\n",
    "    #return ('', 500) #500 is HTTP Response code\n",
    "\n",
    "if __name__ == \"__main__\":\n",
    "    app.run(port=12345, debug=True)"
   ]
  },
  {
   "cell_type": "markdown",
   "metadata": {},
   "source": [
    "## Redirection\n",
    "` return redirect(url_for('profile', name=\"admin\"))`<br>\n",
    "HTTP response code: 302 Found<br>\n",
    "Browser will make request to run `profile(name='admin')`"
   ]
  },
  {
   "cell_type": "markdown",
   "metadata": {},
   "source": [
    "## Jinja 2 syntax\n",
    "`{{ }}` to replace <br>\n",
    "`{% command %}` commands: if, elif, else, endif | for, endfor\n",
    "`{{ abc|filter }}` filters: length, safe (safe means render as raw HTML, no sanitization)\n",
    "HTML excerpt:\n",
    "\n",
    "    ...\n",
    "        <body>\n",
    "            <p>Your name is {{ name|length }} characters long and your name is {{ name|safe }}.</p>\n",
    "            {% if name == 'Tim Cook' %}\n",
    "            <p>Welcome back to Apple!</p>\n",
    "            {% endif %}\n",
    "            <table>\n",
    "                <tr><th>List of Apple Products</th><tr>\n",
    "                {% for product in products %}\n",
    "                <tr><td>{{ product }}</td></tr>\n",
    "                {% endfor %}\n",
    "        </body>\n",
    "    ...\n",
    "        "
   ]
  },
  {
   "cell_type": "markdown",
   "metadata": {},
   "source": [
    "## Form Processing & DB Error Handling in Python\n",
    "\n",
    "    ...\n",
    "    <body>\n",
    "        <form method=\"POST\" action=\"/postmehere\" enctype='multipart/form-data>\n",
    "            <p>Filename: <input type='text' name='filename'></p>\n",
    "            <p>Submit document: <input type='file' name='document'></p>\n",
    "            <p><input type='submit' name='submit' value='This'></p>\n",
    "            <p><input type='submit' name='submit' value='That'></p> <!-- Handling 2 submit buttons -->\n",
    "        </form>\n",
    "    </body>\n",
    "    ...\n",
    "            \n",
    "            "
   ]
  },
  {
   "cell_type": "code",
   "execution_count": 6,
   "metadata": {},
   "outputs": [],
   "source": [
    "import flask\n",
    "from flask import request, render_template, redirect, send_from_directory\n",
    "from werkzeug.utils import secure_filename\n",
    "import sqlite3\n",
    "import sys\n",
    "\n",
    "app = flask.Flask(__name__)\n",
    "\n",
    "@app.route('/GET_formsubmit/')\n",
    "def GET_formsubmit():\n",
    "    name = request.args['name']\n",
    "\n",
    "\"\"\"\n",
    "For POST form with file, form enctype must be 'multipart/form-data'\n",
    "\"\"\"\n",
    "@app.route('/', methods=['GET', 'POST'])\n",
    "def POST_form():\n",
    "    if request.method == \"GET\":\n",
    "        #Show form\n",
    "        return render_template('form.html')\n",
    "    if request.method == \"POST\":\n",
    "        #Do processing\n",
    "        \n",
    "        #Below code shows SQL Error Handling (VERY IMPT TO NOT LOCK SQL DATABASE!!!)\n",
    "        try:\n",
    "            conn = sqlite3.connect(\"database.db\")\n",
    "            conn.execute(\"INSERT INTO Table....\")\n",
    "            conn.commit()\n",
    "            conn.close()\n",
    "            return render_template('form.html')\n",
    "        except: #Exception handling\n",
    "            conn.close()\n",
    "            print(sys.exc_info())\n",
    "                   "
   ]
  },
  {
   "cell_type": "markdown",
   "metadata": {},
   "source": [
    "## Image Processing"
   ]
  },
  {
   "cell_type": "markdown",
   "metadata": {},
   "source": [
    "<b>View.html</b>\n",
    "\n",
    "    ...\n",
    "    <body>\n",
    "        {% for photo in filenames %}\n",
    "        <img src=\"{{ url_for('get_file', filename=photo[filename]) }} alt={{ photo[filename] }}\"\n",
    "        {% endfor %}\n",
    "    </body>\n",
    "    ..."
   ]
  },
  {
   "cell_type": "code",
   "execution_count": null,
   "metadata": {},
   "outputs": [],
   "source": [
    "import flask\n",
    "from flask import request, render_template, redirect, send_from_directory\n",
    "from werkzeug.utils import secure_filename\n",
    "import os, sqlite3\n",
    "\n",
    "@app.route('/', methods=[\"GET\", \"POST\"])\n",
    "def upload():\n",
    "    if request.method == \"POST\":\n",
    "        photo = request.files['photo'] #Extract Photo object with binary data and metadata (filename etc)\n",
    "        filename = secure_filename(photo.filename) #Input sanitization\n",
    "        path = os.path.join('uploads', filename) #Path is now /uploads/<filename>\n",
    "        photo.save(path) #Save at /uploads/<filename>\n",
    "        \n",
    "        #Add filename to database\n",
    "        conn = sqlite3.connect(\"photo.db\")\n",
    "        conn.execute(\"INSERT INTO Photo(filename) VALUES(?)\", (filename,))\n",
    "        conn.commit()\n",
    "        conn.close()\n",
    "        \n",
    "@app.route('/view')\n",
    "def view():\n",
    "    conn = sqlite3.connect(\"photo.db\")\n",
    "    conn.row_factory = sqlite3.Row\n",
    "    cursor = conn.execute(\"SELECT filename FROM Photo\")\n",
    "    filenames = cursor.fetchall()\n",
    "    return render_template(\"view.html\", filenames=filenames)\n",
    "\n",
    "@app.route('/photo/<filename>')\n",
    "def get_file(filename):\n",
    "    return send_from_directory('uploads', filename)\n",
    "    #                             ^           ^\n",
    "    #                          folder      filename"
   ]
  },
  {
   "cell_type": "markdown",
   "metadata": {},
   "source": [
    "## General Pointers for Flask\n",
    "1. The debug PIN does not print out in IDLE.\n",
    "2. To prevent DB lock, it is very important to do DB exception handling, especially if debugger is ON."
   ]
  },
  {
   "cell_type": "code",
   "execution_count": null,
   "metadata": {},
   "outputs": [],
   "source": []
  }
 ],
 "metadata": {
  "kernelspec": {
   "display_name": "Python 3",
   "language": "python",
   "name": "python3"
  },
  "language_info": {
   "codemirror_mode": {
    "name": "ipython",
    "version": 3
   },
   "file_extension": ".py",
   "mimetype": "text/x-python",
   "name": "python",
   "nbconvert_exporter": "python",
   "pygments_lexer": "ipython3",
   "version": "3.6.4"
  }
 },
 "nbformat": 4,
 "nbformat_minor": 2
}
