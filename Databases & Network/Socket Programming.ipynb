{
 "cells": [
  {
   "cell_type": "code",
   "execution_count": null,
   "metadata": {},
   "outputs": [],
   "source": [
    "#Server side\n",
    "import socket\n",
    "\n",
    "mysocket = socket.socket()\n",
    "mysocket.bind(('localhost', 12345))\n",
    "\n",
    "mysocket.listen()\n",
    "\n",
    "new_socket, addr = mysocket.accept()\n",
    "new_socket.sendall('Hello World\\n'.encode()) #\\n is a stop 'bit'\n",
    "new_socket.close() #Terminate connection\n",
    "\n",
    "my_socket.close() #Stop recv incoming requests"
   ]
  },
  {
   "cell_type": "code",
   "execution_count": null,
   "metadata": {},
   "outputs": [],
   "source": [
    "#Client side\n",
    "import socket\n",
    "\n",
    "mysocket = socket.socket()\n",
    "mysocket.connect(('localhost', 12345))\n",
    "\n",
    "while True:\n",
    "    received = mysocket.recv(1024) #max 1024 bytes\n",
    "    while b'\\n' not in received:\n",
    "        received += mysocket.recv(1024)\n",
    "        \n",
    "    stop = received.find(b'\\n')\n",
    "    data = received[:stop]\n",
    "    received = received[stop + 1:]"
   ]
  },
  {
   "cell_type": "code",
   "execution_count": null,
   "metadata": {},
   "outputs": [],
   "source": [
    "\"Hello World\".encode() -> b\"Hello World\"\n",
    "b\"Hello World\".decode() -> \"Hello World\""
   ]
  }
 ],
 "metadata": {
  "kernelspec": {
   "display_name": "Python 3",
   "language": "python",
   "name": "python3"
  },
  "language_info": {
   "codemirror_mode": {
    "name": "ipython",
    "version": 3
   },
   "file_extension": ".py",
   "mimetype": "text/x-python",
   "name": "python",
   "nbconvert_exporter": "python",
   "pygments_lexer": "ipython3",
   "version": "3.6.4"
  }
 },
 "nbformat": 4,
 "nbformat_minor": 2
}
