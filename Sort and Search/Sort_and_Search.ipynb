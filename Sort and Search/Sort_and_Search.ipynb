{
 "cells": [
  {
   "cell_type": "markdown",
   "metadata": {
    "colab_type": "text",
    "id": "sJTzEqiLZrjY"
   },
   "source": [
    "# Sort Algorithms\n",
    "\n",
    "Implement sort algorithms.\n",
    "\n",
    "*   Insertion sort\n",
    "*   Bubble sort\n",
    "*   Quicksort\n",
    "*   Merge sort\n",
    "\n"
   ]
  },
  {
   "cell_type": "code",
   "execution_count": 2,
   "metadata": {
    "colab": {
     "base_uri": "https://localhost:8080/",
     "height": 34
    },
    "colab_type": "code",
    "id": "kr5ZuXzHbokD",
    "outputId": "bf14271c-f4e4-4a02-c51d-992bc3b899fd"
   },
   "outputs": [
    {
     "data": {
      "text/plain": [
       "[16, 28, 20, 14, 32, 6, 48, 35, 24, 40]"
      ]
     },
     "execution_count": 2,
     "metadata": {},
     "output_type": "execute_result"
    }
   ],
   "source": [
    "#Run this cell first to generate test data.\n",
    "from random import randint\n",
    "test = [randint(1, 50) for i in range(10)]\n",
    "test"
   ]
  },
  {
   "cell_type": "code",
   "execution_count": 4,
   "metadata": {
    "colab": {},
    "colab_type": "code",
    "id": "H_hD4lvwUx7R"
   },
   "outputs": [],
   "source": [
    "#Or copy and paste a list into this cell (and run).\n",
    "test = "
   ]
  },
  {
   "cell_type": "markdown",
   "metadata": {
    "colab_type": "text",
    "id": "K0IuBnMEb3CO"
   },
   "source": [
    "## Bubble Sort\n",
    "\n",
    "Worst-case time complexity: $O(n^{2})$\n",
    "\n",
    "### Notes\n",
    "After the $n$th pass, the last $n$ elements are bubbled up in place.\n",
    "\n",
    "### Algorithm\n",
    "\n",
    "1.   Starting with the first element, compare the current element with the next element.\n",
    "2.   If current element > next element, do a swap.\n",
    "3.   Assign current element to next element.\n",
    "4.   Repeat steps 1-3 for the first $n$ element for the $n$th pass.\n",
    "5.   Sorting is complete when there is no swaps in a pass.\n",
    "\n"
   ]
  },
  {
   "cell_type": "code",
   "execution_count": 2,
   "metadata": {
    "colab": {},
    "colab_type": "code",
    "id": "dgewCp65aJqK"
   },
   "outputs": [],
   "source": [
    "def bubble_sort(arr):\n",
    "    exchanges = True\n",
    "    pass_no = len(arr) - 1\n",
    "    while pass_no > 0 and exchanges:\n",
    "        exchanges = False\n",
    "        for i in range(pass_no):\n",
    "            if arr[i] > arr[i+1]:\n",
    "                temp = arr[i]\n",
    "                arr[i] = arr[i+1]\n",
    "                arr[i+1] = temp\n",
    "                exchanges = True\n",
    "        pass_no -= 1\n",
    "    return arr"
   ]
  },
  {
   "cell_type": "code",
   "execution_count": 3,
   "metadata": {
    "colab": {},
    "colab_type": "code",
    "id": "SKNs4YW6eWzw"
   },
   "outputs": [],
   "source": [
    "def recursive_bubble_sort(arr):\n",
    "    if len(arr) == 1:\n",
    "        return arr\n",
    "    else:\n",
    "        swap = False\n",
    "        for i in range(len(arr)-1):\n",
    "            if arr[i] > arr[i+1]:\n",
    "                temp = arr[i]\n",
    "                arr[i] = arr[i+1]\n",
    "                arr[i+1] = temp\n",
    "                swap = True\n",
    "        if swap == False:\n",
    "            return arr\n",
    "        else:\n",
    "            return recursive_bubble_sort(arr[:-1]) + [arr[-1]]"
   ]
  },
  {
   "cell_type": "code",
   "execution_count": 4,
   "metadata": {
    "colab": {
     "base_uri": "https://localhost:8080/",
     "height": 34
    },
    "colab_type": "code",
    "id": "f2v3u3A1bxJe",
    "outputId": "35b5d9ea-f791-4846-e98e-61001ab0d58f"
   },
   "outputs": [
    {
     "data": {
      "text/plain": [
       "[11, 12, 14, 15, 19, 20, 21, 42, 43, 45]"
      ]
     },
     "execution_count": 4,
     "metadata": {},
     "output_type": "execute_result"
    }
   ],
   "source": [
    "bubble_sort(test)"
   ]
  },
  {
   "cell_type": "code",
   "execution_count": 5,
   "metadata": {
    "colab": {
     "base_uri": "https://localhost:8080/",
     "height": 34
    },
    "colab_type": "code",
    "id": "gkADsiBnfGVI",
    "outputId": "ddf01166-71ef-43e5-ece9-6668d75f55fa"
   },
   "outputs": [
    {
     "data": {
      "text/plain": [
       "[11, 12, 14, 15, 19, 20, 21, 42, 43, 45]"
      ]
     },
     "execution_count": 5,
     "metadata": {},
     "output_type": "execute_result"
    }
   ],
   "source": [
    "recursive_bubble_sort(test)"
   ]
  },
  {
   "cell_type": "markdown",
   "metadata": {
    "colab_type": "text",
    "id": "7UG1DIF9cYSd"
   },
   "source": [
    "## Insertion sort\n",
    "\n",
    "Worst-case time complexity: $O(n^{2})$\n",
    "\n",
    "### Notes\n",
    "A sorted portion of the array is maintained on the left-hand side. The first element is sorted.\n",
    "\n",
    "### Algorithm\n",
    "\n",
    "1.   Starting with the second element, compare with the elements in the sorted sub-array.\n",
    "2.   Shift all the elements that are greater than the current element one position to the right.\n",
    "3.   Insert the element.\n",
    "4.   Repeat steps 1-3 for all elements.\n",
    "\n"
   ]
  },
  {
   "cell_type": "code",
   "execution_count": 6,
   "metadata": {
    "colab": {},
    "colab_type": "code",
    "id": "obmPvypTdf05"
   },
   "outputs": [],
   "source": [
    "def insertion_sort(arr):\n",
    "    for i in range(1, len(arr)):\n",
    "        \n",
    "        #element to be compared\n",
    "        key = arr[i]\n",
    "        position = i\n",
    "        \n",
    "        #Move elements of arr[0..position-1] that are greater than key to\n",
    "        #one position ahead of their current position.\n",
    "        while position > 0 and arr[position-1] > key:\n",
    "            arr[position] = arr[position-1]\n",
    "            position = position - 1\n",
    "            \n",
    "        arr[position] = key\n",
    "    return arr\n"
   ]
  },
  {
   "cell_type": "code",
   "execution_count": 18,
   "metadata": {
    "colab": {},
    "colab_type": "code",
    "id": "otoCwjjQedyn"
   },
   "outputs": [],
   "source": [
    "def recursive_insertion_sort(arr):\n",
    "    if len(arr) == 1:\n",
    "        return arr\n",
    "    else:\n",
    "        key = arr[0]\n",
    "        position = 0\n",
    "        \n",
    "        while position > 0 and arr[postion-1] > key:\n",
    "            arr[position] = arr[position-1]\n",
    "            position -= 1\n",
    "        \n",
    "        arr[position] = key\n",
    "        \n",
    "        return [arr[0]] + recursive_insertion_sort(arr[1:])\n",
    "    "
   ]
  },
  {
   "cell_type": "code",
   "execution_count": 19,
   "metadata": {
    "colab": {
     "base_uri": "https://localhost:8080/",
     "height": 34
    },
    "colab_type": "code",
    "id": "gKyD6HfzeeMt",
    "outputId": "72927db0-3c2c-4d8c-f59e-f2390264a881"
   },
   "outputs": [
    {
     "data": {
      "text/plain": [
       "[2, 6, 8, 10, 10, 10, 14, 25, 34, 48]"
      ]
     },
     "execution_count": 19,
     "metadata": {},
     "output_type": "execute_result"
    }
   ],
   "source": [
    "insertion_sort(test)"
   ]
  },
  {
   "cell_type": "code",
   "execution_count": 20,
   "metadata": {
    "colab": {
     "base_uri": "https://localhost:8080/",
     "height": 34
    },
    "colab_type": "code",
    "id": "zycLTVIDfDW2",
    "outputId": "08db9f39-133d-4924-d1c7-2446f9a5d871"
   },
   "outputs": [
    {
     "data": {
      "text/plain": [
       "[2, 6, 8, 10, 10, 10, 14, 25, 34, 48]"
      ]
     },
     "execution_count": 20,
     "metadata": {},
     "output_type": "execute_result"
    }
   ],
   "source": [
    "recursive_insertion_sort(test)"
   ]
  },
  {
   "cell_type": "markdown",
   "metadata": {
    "colab_type": "text",
    "id": "uHDZFrP7e9fF"
   },
   "source": [
    "## Merge sort\n",
    "\n",
    "Worst-case time complexity: $O(n\\log{n})$\n",
    "\n",
    "### Algorithm\n",
    "\n",
    "1.   Split the array into 2 sub-arrays recursively until sub-arrays contain only one single element.\n",
    "2.   Merge the sub-arrays into a single array.\n",
    "> 1.    Compare the first $n$ elements of the sub-arrays.\n",
    "  2.    The smaller of the two elements is appended to the new array\n",
    "  3.    Repeat until both sub-arrays are empty.\n",
    "\n",
    "\n",
    "\n",
    "\n",
    "\n",
    "\n",
    "\n",
    "\n",
    "\n",
    "\n",
    "\n",
    "\n"
   ]
  },
  {
   "cell_type": "code",
   "execution_count": 11,
   "metadata": {
    "colab": {},
    "colab_type": "code",
    "id": "-rsbMdGWf7_n"
   },
   "outputs": [],
   "source": [
    "def merge_sort(arr, l, r):\n",
    "    if l < r:\n",
    "        m = (l+r) // 2\n",
    "        \n",
    "        merge_sort(arr, l, m) #Sort first and second halves\n",
    "        merge_sort(arr, m+1, r)\n",
    "        \n",
    "        return merge(arr, l, m, r)\n",
    "      \n",
    "def merge(arr, l, m, r):\n",
    "    #copy data into temp arrays L and R\n",
    "    L = arr[l:m+1]\n",
    "    R = arr[m+1:r+1]\n",
    "        \n",
    "    #merge the temp arrays back into arr[l..r]\n",
    "    i = 0\n",
    "    j = 0\n",
    "    k = l \n",
    "    \n",
    "    while i < len(L) and j < len(R):\n",
    "        if L[i] <= R[j]:\n",
    "            arr[k] = L[i]\n",
    "            i += 1\n",
    "        else:\n",
    "            arr[k] = R[j]\n",
    "            j += 1\n",
    "        k += 1\n",
    "\n",
    "    #Copy remaining elements in temp array back into original array\n",
    "    while i < len(L): \n",
    "        arr[k] = L[i]\n",
    "        i += 1\n",
    "        k += 1\n",
    "\n",
    "    while j < len(R):\n",
    "        arr[k] = R[j]\n",
    "        j += 1\n",
    "        k += 1\n",
    "    \n",
    "    return arr\n"
   ]
  },
  {
   "cell_type": "code",
   "execution_count": 12,
   "metadata": {
    "colab": {
     "base_uri": "https://localhost:8080/",
     "height": 884
    },
    "colab_type": "code",
    "id": "ST-b4M41iM2o",
    "outputId": "5d04e4ea-bffd-46d1-df97-a43ec8bd13a4"
   },
   "outputs": [
    {
     "data": {
      "text/plain": [
       "[5, 11, 19, 21, 21, 22, 22, 39, 43, 48]"
      ]
     },
     "execution_count": 12,
     "metadata": {},
     "output_type": "execute_result"
    }
   ],
   "source": [
    "merge_sort(test, 0, 9)"
   ]
  },
  {
   "cell_type": "markdown",
   "metadata": {
    "colab_type": "text",
    "id": "w8K-kQJf9ngS"
   },
   "source": [
    "## Quicksort\n",
    "\n",
    "Worst-case time complexity: $O(n^2)$\n",
    "\n",
    "### Notes\n",
    "2 pointers (left pointer and right pointer) are maintained for insertion of pivot into the correct position. The pointers are moved towards each other. When left pointer element > pivot and right pointer element < pivot, the elements are swapped. When the pointers cross over, the final position of the pivot is given by the right pointer.\n",
    "\n",
    "### Algorithm\n",
    "1. Assign the pivot to be the first element.\n",
    "2. Partition the array using the pivot.\n",
    "3. Recursively sort the array by partitioning until the sub-array contains only one single element."
   ]
  },
  {
   "cell_type": "code",
   "execution_count": 23,
   "metadata": {
    "colab": {},
    "colab_type": "code",
    "id": "D55gJt7H9xSI"
   },
   "outputs": [],
   "source": [
    "#Double pointer implementation\n",
    "def quicksort(arr, first, last):\n",
    "    if first < last:\n",
    "        splitpoint = partition(arr, first, last)\n",
    "        quicksort(arr, first, splitpoint-1)\n",
    "        quicksort(arr, splitpoint+1, last)\n",
    "\n",
    "    return arr\n",
    "\n",
    "def partition(arr, first, last):\n",
    "    pivot = arr[first]\n",
    "\n",
    "    leftmark = first + 1\n",
    "    rightmark = last \n",
    "\n",
    "    done = False\n",
    "\n",
    "    while not done:\n",
    "        while leftmark <= rightmark and arr[leftmark] <= pivot:\n",
    "            leftmark += 1\n",
    "\n",
    "        while rightmark >= leftmark and arr[rightmark] >= pivot:\n",
    "            rightmark -= 1\n",
    "\n",
    "        if rightmark < leftmark:\n",
    "            done = True\n",
    "        else:\n",
    "            temp = arr[leftmark]\n",
    "            arr[leftmark] = arr[rightmark]\n",
    "            arr[rightmark] = temp\n",
    "\n",
    "    temp = arr[first]\n",
    "    arr[first] = arr[rightmark]\n",
    "    arr[rightmark] = temp\n",
    "\n",
    "    return rightmark\n"
   ]
  },
  {
   "cell_type": "code",
   "execution_count": 24,
   "metadata": {
    "colab": {
     "base_uri": "https://localhost:8080/",
     "height": 867
    },
    "colab_type": "code",
    "id": "1NVKNYFNAGYm",
    "outputId": "36c24c69-e08e-4e39-b26f-7ddcb77bc77f"
   },
   "outputs": [
    {
     "data": {
      "text/plain": [
       "[2, 6, 8, 10, 10, 10, 14, 25, 34, 48]"
      ]
     },
     "execution_count": 24,
     "metadata": {},
     "output_type": "execute_result"
    }
   ],
   "source": [
    "quicksort(test, 0, len(test)-1)"
   ]
  },
  {
   "cell_type": "code",
   "execution_count": 3,
   "metadata": {},
   "outputs": [],
   "source": [
    "#Single pointer implementation\n",
    "def quicksort(arr, first, last):\n",
    "    if first < last:\n",
    "        splitpoint = partition(arr, first, last)\n",
    "        quicksort(arr, first, splitpoint-1)\n",
    "        quicksort(arr, splitpoint+1, last)\n",
    "\n",
    "    return arr\n",
    "\n",
    "def partition(arr, first, last):\n",
    "    pivot = arr[last]\n",
    "    pointer = first\n",
    "    \n",
    "    for index in range(first, last):\n",
    "        if arr[index] < pivot:\n",
    "            temp = arr[pointer]\n",
    "            arr[pointer] = arr[index]\n",
    "            arr[index] = temp\n",
    "            pointer += 1\n",
    "\n",
    "        \n",
    "    arr[last] = arr[pointer]\n",
    "    arr[pointer] = pivot\n",
    "\n",
    "    return pointer"
   ]
  },
  {
   "cell_type": "code",
   "execution_count": 4,
   "metadata": {},
   "outputs": [
    {
     "data": {
      "text/plain": [
       "[6, 14, 16, 20, 24, 28, 32, 35, 40, 48]"
      ]
     },
     "execution_count": 4,
     "metadata": {},
     "output_type": "execute_result"
    }
   ],
   "source": [
    "quicksort(test, 0, len(test)-1)"
   ]
  },
  {
   "cell_type": "markdown",
   "metadata": {
    "colab_type": "text",
    "id": "AFW1o7y1As_P"
   },
   "source": [
    "# Search Algorithms\n",
    "\n",
    "Implement search algorithms.\n",
    "\n",
    "*   Linear Search\n",
    "*   Binary Search\n",
    "*   Hash Table Search\n",
    "\n",
    "\n",
    "\n",
    "\n"
   ]
  },
  {
   "cell_type": "markdown",
   "metadata": {
    "colab_type": "text",
    "id": "4yOfh8cMB0xB"
   },
   "source": [
    "## Linear Search\n",
    "\n",
    "Worst-case time complexity: $O(n)$"
   ]
  },
  {
   "cell_type": "code",
   "execution_count": 48,
   "metadata": {
    "colab": {},
    "colab_type": "code",
    "id": "qB1A6H-XBN_a"
   },
   "outputs": [],
   "source": [
    "def linear_search(item, arr):\n",
    "    i = 0\n",
    "    listsize = len(arr)\n",
    "\n",
    "    while i < listsize:\n",
    "        if arr[i] == item:\n",
    "            return i\n",
    "        i += 1\n",
    "    \n",
    "    return -1 #not found\n"
   ]
  },
  {
   "cell_type": "code",
   "execution_count": 49,
   "metadata": {},
   "outputs": [
    {
     "data": {
      "text/plain": [
       "0"
      ]
     },
     "execution_count": 49,
     "metadata": {},
     "output_type": "execute_result"
    }
   ],
   "source": [
    "linear_search(test[0], test)"
   ]
  },
  {
   "cell_type": "code",
   "execution_count": 50,
   "metadata": {},
   "outputs": [
    {
     "data": {
      "text/plain": [
       "-1"
      ]
     },
     "execution_count": 50,
     "metadata": {},
     "output_type": "execute_result"
    }
   ],
   "source": [
    "linear_search(99999, test)"
   ]
  },
  {
   "cell_type": "markdown",
   "metadata": {
    "colab_type": "text",
    "id": "4qzPCCpAB74B"
   },
   "source": [
    "## Binary Search\n",
    "Worst-case time complexity: $O(\\log{n})$\n",
    "\n",
    "### Notes\n",
    "Array has to be sorted first."
   ]
  },
  {
   "cell_type": "code",
   "execution_count": 28,
   "metadata": {
    "colab": {},
    "colab_type": "code",
    "id": "1QXtdtWBHeXw"
   },
   "outputs": [],
   "source": [
    "def binary_search(item, arr):\n",
    "    first = 0\n",
    "    last = len(arr) - 1\n",
    "    found = False\n",
    "\n",
    "    while first <= last and not found:\n",
    "        middle = (first+last)//2\n",
    "        if arr[middle] == item:\n",
    "            found = True\n",
    "        else:\n",
    "            if item < arr[middle]:\n",
    "                last = middle - 1\n",
    "            else:\n",
    "                first = middle + 1\n",
    "\n",
    "    return found "
   ]
  },
  {
   "cell_type": "code",
   "execution_count": 41,
   "metadata": {
    "colab": {},
    "colab_type": "code",
    "id": "af0KRUVYIDx5"
   },
   "outputs": [],
   "source": [
    "def recursive_binary_search(item, arr, first, last):\n",
    "    if first > last:\n",
    "        return False\n",
    "    else:\n",
    "        middle = (first+last)//2\n",
    "        if arr[middle] == item:\n",
    "            return True\n",
    "        else:\n",
    "            if item < arr[middle]:\n",
    "                return recursive_binary_search(item, arr, first, middle-1)\n",
    "            else:\n",
    "                return recursive_binary_search(item, arr, middle+1, last)\n"
   ]
  },
  {
   "cell_type": "code",
   "execution_count": 42,
   "metadata": {},
   "outputs": [
    {
     "data": {
      "text/plain": [
       "True"
      ]
     },
     "execution_count": 42,
     "metadata": {},
     "output_type": "execute_result"
    }
   ],
   "source": [
    "binary_search(test[0], test)"
   ]
  },
  {
   "cell_type": "code",
   "execution_count": 43,
   "metadata": {},
   "outputs": [
    {
     "data": {
      "text/plain": [
       "False"
      ]
     },
     "execution_count": 43,
     "metadata": {},
     "output_type": "execute_result"
    }
   ],
   "source": [
    "binary_search(99999, test)"
   ]
  },
  {
   "cell_type": "code",
   "execution_count": 44,
   "metadata": {},
   "outputs": [
    {
     "data": {
      "text/plain": [
       "True"
      ]
     },
     "execution_count": 44,
     "metadata": {},
     "output_type": "execute_result"
    }
   ],
   "source": [
    "recursive_binary_search(test[0], test, 0, len(test) - 1)"
   ]
  },
  {
   "cell_type": "code",
   "execution_count": 45,
   "metadata": {},
   "outputs": [
    {
     "data": {
      "text/plain": [
       "False"
      ]
     },
     "execution_count": 45,
     "metadata": {},
     "output_type": "execute_result"
    }
   ],
   "source": [
    "recursive_binary_search(99999, test, 0, len(test) - 1)"
   ]
  },
  {
   "cell_type": "markdown",
   "metadata": {
    "colab_type": "text",
    "id": "2oNgpWmnInGl"
   },
   "source": [
    "## Hash Table Search\n",
    "\n",
    "Worst-case time complexity: $O(1)$\n",
    "\n",
    "### Notes\n",
    "To create a hash: Use hash_total % array size\n",
    "\n",
    "\n"
   ]
  },
  {
   "cell_type": "code",
   "execution_count": 30,
   "metadata": {
    "colab": {},
    "colab_type": "code",
    "id": "FhSVwLsJI49m"
   },
   "outputs": [],
   "source": [
    "class MyHashTable:\n",
    "    def __init__(self, capacity):\n",
    "        self.capacity = capacity\n",
    "        self.slots = [None] * self.capacity\n",
    "\n",
    "    def hash_function(self, key):\n",
    "        #Weighted ordinal hash\n",
    "        key = str(key)\n",
    "        i = 0\n",
    "        hash = 0\n",
    "        while i < len(key):\n",
    "            hash += key[i] * i\n",
    "            i += 1\n",
    "        hash = hash % self.capacity\n",
    "        return hash \n",
    "\n",
    "    def insert(self, key, data):\n",
    "        position = self.hash_function(key)\n",
    "        orig = position\n",
    "        while True:\n",
    "            if self.slots[position] is None: #Empty slot at hash value\n",
    "                self.slots[position] = (key, data)\n",
    "                return 0  \n",
    "            elif self.slots[position][0] == key: #key already exists\n",
    "                self.slots[position] = (key, data) #Update\n",
    "                return 1\n",
    "            \n",
    "            position = (position + 1) % self.capacity\n",
    "            if position == orig:\n",
    "                return -1 #Hash table is full\n",
    "\n",
    "    def search(self, search_key):\n",
    "        position = self.hash_function(search_key)\n",
    "        if self.slots[position] is None:\n",
    "            return -1 #Record not in hash table\n",
    "        for i in range(self.capacity):\n",
    "            probe = (position + i) % self.capacity\n",
    "            if self.slots[probe][0] == search_key:\n",
    "                return self.slots[probe][1] #Record found\n",
    "        return -1 #Record not in hash table\n"
   ]
  },
  {
   "cell_type": "code",
   "execution_count": null,
   "metadata": {},
   "outputs": [],
   "source": []
  }
 ],
 "metadata": {
  "colab": {
   "collapsed_sections": [],
   "name": "Sort Algorithms.ipynb",
   "provenance": [],
   "version": "0.3.2"
  },
  "kernelspec": {
   "display_name": "Python 3",
   "language": "python",
   "name": "python3"
  },
  "language_info": {
   "codemirror_mode": {
    "name": "ipython",
    "version": 3
   },
   "file_extension": ".py",
   "mimetype": "text/x-python",
   "name": "python",
   "nbconvert_exporter": "python",
   "pygments_lexer": "ipython3",
   "version": "3.6.4"
  }
 },
 "nbformat": 4,
 "nbformat_minor": 1
}
